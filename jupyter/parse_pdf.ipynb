{
 "cells": [
  {
   "cell_type": "code",
   "execution_count": 3,
   "metadata": {},
   "outputs": [
    {
     "name": "stdout",
     "output_type": "stream",
     "text": [
      "The autoreload extension is already loaded. To reload it, use:\n",
      "  %reload_ext autoreload\n"
     ]
    }
   ],
   "source": [
    "#  make jupyter notebook dynamically reload modules\n",
    "%load_ext autoreload\n",
    "%autoreload 2"
   ]
  },
  {
   "cell_type": "code",
   "execution_count": 5,
   "metadata": {},
   "outputs": [],
   "source": [
    "import camelot\n",
    "# ModuleNotFoundError: No module named 'tabula'\n",
    "import tabula.io as tb\n",
    "import warnings\n",
    "warnings.simplefilter(action='ignore', category=FutureWarning)\n",
    "import pandas as pd\n",
    "import os"
   ]
  },
  {
   "cell_type": "code",
   "execution_count": 79,
   "metadata": {},
   "outputs": [],
   "source": [
    "from numpy import mean\n",
    "\n",
    "\n",
    "def extract_licensure(df: pd.DataFrame):\n",
    "    scheme = {\n",
    "        'shape': (4, 2),\n",
    "        'extract': {\n",
    "            \"lic_total\": (1,1),\n",
    "            \"licensed\": (2,1),\n",
    "            \"licensure_extracted\": (3,1),\n",
    "        },\n",
    "    }\n",
    "    info = {}\n",
    "    if df.shape != scheme['shape']:\n",
    "        print(f\"Licensure Table has shape {df.shape} instead of {scheme['shape']}\")\n",
    "    else:\n",
    "        for key, loc in scheme['extract'].items():\n",
    "            info[key] = df.iloc[loc]\n",
    "    return info\n",
    "def extract_time_to_complete(df: pd.DataFrame):\n",
    "    info = {}\n",
    "    for ir, x in enumerate(df.iloc[:,0]):\n",
    "        if \"Mean number of years to complete\".replace(\" \", '') in x.replace(\" \", ''):\n",
    "            years = df.iloc[ir, 1:].to_list()\n",
    "            years = [y for y in years if y]\n",
    "            info['years_long'] = max(years)\n",
    "            info['years_short'] = min(years)    \n",
    "            info['years_mean'] = years[-1]\n",
    "            break\n",
    "    return info\n",
    "def extract_tuition(df: pd.DataFrame):\n",
    "    info = {}\n",
    "    for ir, x in enumerate(df.iloc[:,0]):\n",
    "        if \"out-of-state\" in x.lower():\n",
    "            fees = df.iloc[ir, 1:].to_list()\n",
    "            fees = [y for y in fees if y]\n",
    "            tuition = fees[-1]\n",
    "            # if tuition is not precedented by a $ sign, add it\n",
    "            if \"$\" not in tuition:\n",
    "                tuition = \"$\" + tuition\n",
    "            info['tuition'] = tuition\n",
    "            break\n",
    "    return info\n",
    "def extract_internship(df: pd.DataFrame):\n",
    "    info = {}\n",
    "    for ir, x in enumerate(df.iloc[:,0]):\n",
    "        if \"Students who obtained APA/CPA-accredited internships\".replace(\" \", '') in x.replace(\" \", ''):\n",
    "            interns = df.iloc[ir, 1:].to_list()\n",
    "            interns = [y for y in interns if y.isnumeric()]\n",
    "            info['internship_rate_lastest'] = interns[-1]\n",
    "            break\n",
    "    return info\n",
    "def extract_attrition(df: pd.DataFrame):\n",
    "    info = {}\n",
    "    for ir, x in enumerate(df.iloc[:,0]):\n",
    "        if \"Students for whom this is the year of first enrollment\".replace(\" \", '') in x.replace(\" \", ''):\n",
    "            enrollment = df.iloc[ir, 1:].to_list()\n",
    "            # only keep numeric values\n",
    "            enrollment = [int(y) for y in enrollment if y.isnumeric()]\n",
    "            info['enrollment_latest'] = str(enrollment[-1])\n",
    "            info['enrollment_ave'] = str(mean(enrollment))\n",
    "        if \"Students no longer enrolled for any reason\".replace(\" \", '') in x.replace(\" \", ''):\n",
    "            attrition = df.iloc[ir, 1:].to_list()\n",
    "            # only keep numeric values\n",
    "            attrition = [int(y) for y in attrition if y.isnumeric()]\n",
    "            info['attrition_rate_high'] = str(max(attrition[1::2]))\n",
    "            info['attrition_ave'] = str(mean(attrition[::2]))\n",
    "            info['attrition_latest'] = str(attrition[-1])\n",
    "    return info\n",
    "\n",
    "# extract info from effective tables\n",
    "def extract_effective_tables(tables: dict):\n",
    "    info = {}\n",
    "    for title, df in tables.items():\n",
    "        if \"licensure\" in title.lower():\n",
    "            info.update(extract_licensure(df))\n",
    "        if \"time\" in title.lower():\n",
    "            info.update(extract_time_to_complete(df))\n",
    "        if \"tuition\" in title.lower():\n",
    "            info.update(extract_tuition(df))\n",
    "        if \"internship\" in title.lower():\n",
    "            info.update(extract_internship(df))\n",
    "        if \"attrition\" in title.lower():\n",
    "            info.update(extract_attrition(df))\n",
    "    return info"
   ]
  },
  {
   "cell_type": "code",
   "execution_count": 80,
   "metadata": {},
   "outputs": [
    {
     "name": "stdout",
     "output_type": "stream",
     "text": [
      "{'years_long': '5.5', 'years_short': '5.05', 'years_mean': '5.232', 'tuition': '37962', 'internship_rate_lastest': '100', 'enrollment_latest': '34', 'enrollment_ave': '29.3', 'attrition_rate_high': '16', 'attrition_ave': '2.2', 'attrition_latest': '6'}\n"
     ]
    }
   ],
   "source": [
    "from scrap.parse_pdf import parse_pdf_file, find_effective_tables\n",
    "\n",
    "verified_excel = \"scrap/result/apa_programs_licensure.xlsx\"\n",
    "df = pd.read_excel(verified_excel)\n",
    "index = 43\n",
    "pdf_filename = df.at[index, \"pdf_filename\"]\n",
    "format_indicators, tables = parse_pdf_file(pdf_filename)\n",
    "effective_tables = find_effective_tables(tables)\n",
    "info = extract_effective_tables(effective_tables)\n",
    "print(info)\n"
   ]
  },
  {
   "cell_type": "code",
   "execution_count": null,
   "metadata": {},
   "outputs": [],
   "source": []
  }
 ],
 "metadata": {
  "kernelspec": {
   "display_name": "web_scraping",
   "language": "python",
   "name": "python3"
  },
  "language_info": {
   "codemirror_mode": {
    "name": "ipython",
    "version": 3
   },
   "file_extension": ".py",
   "mimetype": "text/x-python",
   "name": "python",
   "nbconvert_exporter": "python",
   "pygments_lexer": "ipython3",
   "version": "3.12.5"
  }
 },
 "nbformat": 4,
 "nbformat_minor": 2
}
